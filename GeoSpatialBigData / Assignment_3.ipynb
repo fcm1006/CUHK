{
  "nbformat": 4,
  "nbformat_minor": 0,
  "metadata": {
    "colab": {
      "provenance": [],
      "include_colab_link": true
    },
    "kernelspec": {
      "name": "python3",
      "display_name": "Python 3"
    },
    "language_info": {
      "name": "python"
    }
  },
  "cells": [
    {
      "cell_type": "markdown",
      "metadata": {
        "id": "view-in-github",
        "colab_type": "text"
      },
      "source": [
        "<a href=\"https://colab.research.google.com/github/fcm1006/CUHK/blob/main/GeoSpatialBigData%20/%20Assignment_3.ipynb\" target=\"_parent\"><img src=\"https://colab.research.google.com/assets/colab-badge.svg\" alt=\"Open In Colab\"/></a>"
      ]
    },
    {
      "cell_type": "markdown",
      "metadata": {
        "id": "jtFU0tPEgrOW"
      },
      "source": [
        "# [Open question] Find the center area of Shanghai\n",
        "\n",
        "Suppose you need to identify the **center area** of Shanghai by using Mobike data.\n",
        "You can apply any methods you like to work out the result then plot it in folium with basemap(Gaode)\n",
        "\n",
        "\n",
        "Here is the full dataset of Mobike:\n",
        "https://github.com/gyshion/tutorial/raw/main/mobike_shanghai1.csv\n"
      ]
    },
    {
      "cell_type": "markdown",
      "metadata": {
        "id": "Ty_jH57Iz9Rc"
      },
      "source": [
        "Tips:\n",
        "\n",
        "\n",
        "\n"
      ]
    }
  ]
}