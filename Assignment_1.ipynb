{
  "nbformat": 4,
  "nbformat_minor": 0,
  "metadata": {
    "colab": {
      "provenance": [],
      "include_colab_link": true
    },
    "kernelspec": {
      "name": "python3",
      "display_name": "Python 3"
    },
    "language_info": {
      "name": "python"
    }
  },
  "cells": [
    {
      "cell_type": "markdown",
      "metadata": {
        "id": "view-in-github",
        "colab_type": "text"
      },
      "source": [
        "<a href=\"https://colab.research.google.com/github/fcm1006/CUHK/blob/main/Assignment_1.ipynb\" target=\"_parent\"><img src=\"https://colab.research.google.com/assets/colab-badge.svg\" alt=\"Open In Colab\"/></a>"
      ]
    },
    {
      "cell_type": "markdown",
      "metadata": {
        "id": "3h8vnKSPcryX"
      },
      "source": [
        "https://colab.research.google.com/drive/1tBPyCzQc0yLLZCd8XxsoOYJ2a9ZPCZfM?usp=sharing\n",
        "\n",
        "![下载.png](data:image/png;base64,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)"
      ]
    },
    {
      "cell_type": "markdown",
      "metadata": {
        "id": "BMBEKWMFi1pB"
      },
      "source": [
        "# 1. Apply for a Google Maps API and enable Geocoding API and Places API\n",
        "https://docs.google.com/presentation/d/1PQ01V7iZxQQNte6Lsqn9HC7g4nwbyqhq/edit?usp=sharing&ouid=101106940503289632094&rtpof=true&sd=true\n"
      ]
    },
    {
      "cell_type": "markdown",
      "metadata": {
        "id": "CehMsM-_ic_-"
      },
      "source": [
        "# 2 Compelete the Code to find all Wellcome stores within 1km to Tsim Sha Tsui Station\n",
        "##2.1 Find the coordinate of Tsim Sha Tsui Station\n",
        "##2.2 Find all coordinates of the addresses in Wellcome website(https://www.wellcome.com.hk/en/our-store)\n",
        "##2.3 Calculate the distance between Tsim Sha Tsui Station and each Wellcome store. Print those within 1km"
      ]
    },
    {
      "cell_type": "code",
      "metadata": {
        "colab": {
          "base_uri": "https://localhost:8080/"
        },
        "id": "pKkSx1WJkcFf",
        "outputId": "5ee04fa4-c479-486a-a56b-2ef456d2a6b7"
      },
      "source": [
        "# Haversine formula, distance between two coordinates\n",
        "\n",
        "from math import radians, degrees, sin, cos, asin, acos, sqrt\n",
        "\n",
        "def great_circle(lon1, lat1, lon2, lat2):\n",
        "  radius_of_earth = 6371\n",
        "  lon1, lat1, lon2, lat2 = map(radians, [lon1, lat1, lon2, lat2])\n",
        "  return radius_of_earth * (acos(sin(lat1) * sin(lat2) + cos(lat1) * cos(lat2) * cos(lon1 - lon2)))\n",
        "\n",
        "print(great_circle(120.1, 30.1, 120, 30))\n",
        "\n",
        "\n",
        "\n",
        "with open(    ) as infile:\n",
        "  # compelete by yourself\n",
        "\n",
        "\n",
        "\n",
        "\n",
        "\n"
      ],
      "execution_count": null,
      "outputs": [
        {
          "output_type": "stream",
          "name": "stdout",
          "text": [
            "14.706526158571467\n"
          ]
        }
      ]
    }
  ]
}